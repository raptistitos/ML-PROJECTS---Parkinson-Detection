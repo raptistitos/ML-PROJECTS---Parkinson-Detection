{
 "cells": [
  {
   "cell_type": "markdown",
   "id": "5ffbd83f",
   "metadata": {},
   "source": [
    "# Parkinson's Disease Detection"
   ]
  },
  {
   "cell_type": "markdown",
   "id": "174d1068",
   "metadata": {},
   "source": [
    "## 1.Read the data"
   ]
  },
  {
   "cell_type": "code",
   "execution_count": 8,
   "id": "eccf3b97",
   "metadata": {
    "scrolled": true
   },
   "outputs": [
    {
     "name": "stdout",
     "output_type": "stream",
     "text": [
      "<class 'pandas.core.frame.DataFrame'>\n",
      "RangeIndex: 195 entries, 0 to 194\n",
      "Data columns (total 24 columns):\n",
      " #   Column            Non-Null Count  Dtype  \n",
      "---  ------            --------------  -----  \n",
      " 0   name              195 non-null    object \n",
      " 1   MDVP:Fo(Hz)       195 non-null    float64\n",
      " 2   MDVP:Fhi(Hz)      195 non-null    float64\n",
      " 3   MDVP:Flo(Hz)      195 non-null    float64\n",
      " 4   MDVP:Jitter(%)    195 non-null    float64\n",
      " 5   MDVP:Jitter(Abs)  195 non-null    float64\n",
      " 6   MDVP:RAP          195 non-null    float64\n",
      " 7   MDVP:PPQ          195 non-null    float64\n",
      " 8   Jitter:DDP        195 non-null    float64\n",
      " 9   MDVP:Shimmer      195 non-null    float64\n",
      " 10  MDVP:Shimmer(dB)  195 non-null    float64\n",
      " 11  Shimmer:APQ3      195 non-null    float64\n",
      " 12  Shimmer:APQ5      195 non-null    float64\n",
      " 13  MDVP:APQ          195 non-null    float64\n",
      " 14  Shimmer:DDA       195 non-null    float64\n",
      " 15  NHR               195 non-null    float64\n",
      " 16  HNR               195 non-null    float64\n",
      " 17  status            195 non-null    int64  \n",
      " 18  RPDE              195 non-null    float64\n",
      " 19  DFA               195 non-null    float64\n",
      " 20  spread1           195 non-null    float64\n",
      " 21  spread2           195 non-null    float64\n",
      " 22  D2                195 non-null    float64\n",
      " 23  PPE               195 non-null    float64\n",
      "dtypes: float64(22), int64(1), object(1)\n",
      "memory usage: 36.7+ KB\n"
     ]
    },
    {
     "data": {
      "text/plain": [
       "(195, 24)"
      ]
     },
     "execution_count": 8,
     "metadata": {},
     "output_type": "execute_result"
    }
   ],
   "source": [
    "import numpy as np \n",
    "import pandas as pd\n",
    "import os\n",
    "df = pd.read_csv('parkinsons.data')\n",
    "df.tail\n",
    "\n",
    "# describe data\n",
    "df.describe()\n",
    "\n",
    "# info of the data\n",
    "df.info()\n",
    "\n",
    "# shape of the dataset\n",
    "df.shape"
   ]
  },
  {
   "cell_type": "markdown",
   "id": "2714a419",
   "metadata": {},
   "source": [
    "## 2. Preprocessing the data"
   ]
  },
  {
   "cell_type": "code",
   "execution_count": 10,
   "id": "25a7299f",
   "metadata": {},
   "outputs": [
    {
     "data": {
      "text/plain": [
       "1    147\n",
       "0     48\n",
       "Name: status, dtype: int64"
      ]
     },
     "execution_count": 10,
     "metadata": {},
     "output_type": "execute_result"
    }
   ],
   "source": [
    "# get the all columns except \"status\"\n",
    "features = df.loc[:, df.columns != 'status'].values[:, 1:]\n",
    "\n",
    "# get status values in array format\n",
    "labels = df.loc[:, 'status'].values\n",
    "\n",
    "# count values equal to 1 and 0\n",
    "df['status'].value_counts()"
   ]
  },
  {
   "cell_type": "markdown",
   "id": "6b7c8152",
   "metadata": {},
   "source": [
    "### 2.1 Scale the data"
   ]
  },
  {
   "cell_type": "code",
   "execution_count": 11,
   "id": "fc66ff58",
   "metadata": {},
   "outputs": [
    {
     "name": "stderr",
     "output_type": "stream",
     "text": [
      "/Users/titos/opt/anaconda3/lib/python3.9/site-packages/scipy/__init__.py:146: UserWarning: A NumPy version >=1.16.5 and <1.23.0 is required for this version of SciPy (detected version 1.23.1\n",
      "  warnings.warn(f\"A NumPy version >={np_minversion} and <{np_maxversion}\"\n"
     ]
    },
    {
     "name": "stdout",
     "output_type": "stream",
     "text": [
      "[[-0.63138346 -0.77481654 -0.89037042 ...  0.17153026 -0.21867743\n",
      "  -0.0053808 ]\n",
      " [-0.6033463  -0.81013911 -0.4433544  ...  0.48267409 -0.05370956\n",
      "   0.34265204]\n",
      " [-0.66992292 -0.88174367 -0.46942324 ...  0.37274182 -0.18236124\n",
      "   0.19336492]\n",
      " ...\n",
      " [ 0.00546073 -0.43717403 -0.89854572 ... -0.31484696  0.11793486\n",
      "  -0.63884033]\n",
      " [ 0.28578581  0.20361309 -0.89144127 ... -0.09423055 -0.36355605\n",
      "  -0.67372646]\n",
      " [ 0.46654868 -0.35441175 -0.85610326 ... -0.16981039  0.00734563\n",
      "  -0.5690805 ]] [1 1 1 1 1 1 1 1 1 1 1 1 1 1 1 1 1 1 1 1 1 1 1 1 1 1 1 1 1 1 0 0 0 0 0 0 1\n",
      " 1 1 1 1 1 0 0 0 0 0 0 0 0 0 0 0 0 1 1 1 1 1 1 0 0 0 0 0 0 1 1 1 1 1 1 1 1\n",
      " 1 1 1 1 1 1 1 1 1 1 1 1 1 1 1 1 1 1 1 1 1 1 1 1 1 1 1 1 1 1 1 1 1 1 1 1 1\n",
      " 1 1 1 1 1 1 1 1 1 1 1 1 1 1 1 1 1 1 1 1 1 1 1 1 1 1 1 1 1 1 1 1 1 1 1 1 1\n",
      " 1 1 1 1 1 1 1 1 1 1 1 1 1 1 1 1 1 0 0 0 0 0 0 0 0 0 0 0 0 1 1 1 1 1 1 0 0\n",
      " 0 0 0 0 0 0 0 0 0 0]\n"
     ]
    }
   ],
   "source": [
    "from sklearn.preprocessing import MinMaxScaler\n",
    "\n",
    "#  Initialize MinMax Scaler classs for -1 to 1\n",
    "scaler = MinMaxScaler((-1, 1))\n",
    "\n",
    "# fit_transform() method fits to the data and then transforms it.\n",
    "X = scaler.fit_transform(features)\n",
    "y = labels\n",
    "\n",
    "#  Show X and y  here\n",
    "print(X, y)"
   ]
  },
  {
   "cell_type": "markdown",
   "id": "ef9ecf73",
   "metadata": {},
   "source": [
    "### 2.2 Split the data to train and test sets"
   ]
  },
  {
   "cell_type": "code",
   "execution_count": 32,
   "id": "3339bc06",
   "metadata": {},
   "outputs": [],
   "source": [
    "from sklearn.model_selection import train_test_split\n",
    "\n",
    "# split the dataset into training and testing sets\n",
    "x_train, x_test, y_train, y_test=train_test_split(X, y, test_size=0.15)"
   ]
  },
  {
   "cell_type": "markdown",
   "id": "239a4257",
   "metadata": {},
   "source": [
    "## 3. Build the Classifier models"
   ]
  },
  {
   "cell_type": "markdown",
   "id": "7f52a0c0",
   "metadata": {},
   "source": [
    "### 3.1 Xgboost classifier"
   ]
  },
  {
   "cell_type": "markdown",
   "id": "522ad22c",
   "metadata": {},
   "source": [
    "### 3.1.1 Train the model"
   ]
  },
  {
   "cell_type": "code",
   "execution_count": 22,
   "id": "453aeedd",
   "metadata": {},
   "outputs": [
    {
     "data": {
      "text/plain": [
       "XGBClassifier(base_score=0.5, booster='gbtree', callbacks=None,\n",
       "              colsample_bylevel=1, colsample_bynode=1, colsample_bytree=1,\n",
       "              early_stopping_rounds=None, enable_categorical=False,\n",
       "              eval_metric=None, gamma=0, gpu_id=-1, grow_policy='depthwise',\n",
       "              importance_type=None, interaction_constraints='',\n",
       "              learning_rate=0.300000012, max_bin=256, max_cat_to_onehot=4,\n",
       "              max_delta_step=0, max_depth=6, max_leaves=0, min_child_weight=1,\n",
       "              missing=nan, monotone_constraints='()', n_estimators=100,\n",
       "              n_jobs=0, num_parallel_tree=1, predictor='auto', random_state=0,\n",
       "              reg_alpha=0, reg_lambda=1, ...)"
      ]
     },
     "execution_count": 22,
     "metadata": {},
     "output_type": "execute_result"
    }
   ],
   "source": [
    "from xgboost import XGBClassifier\n",
    "from sklearn.metrics import accuracy_score\n",
    "\n",
    "model_xgboost = XGBClassifier()\n",
    "model_xgboost.fit(x_train, y_train)"
   ]
  },
  {
   "cell_type": "markdown",
   "id": "ed6f2c7f",
   "metadata": {},
   "source": [
    "### 3.1.2 Model prediction"
   ]
  },
  {
   "cell_type": "code",
   "execution_count": 23,
   "id": "a34db252",
   "metadata": {},
   "outputs": [
    {
     "name": "stdout",
     "output_type": "stream",
     "text": [
      "Accuracy Score is 96.66666666666667\n"
     ]
    }
   ],
   "source": [
    "y_prediction_xgboost = model_xgboost.predict(x_test)\n",
    "\n",
    "print(\"Accuracy Score is\", accuracy_score(y_test, y_prediction_xgboost) * 100)"
   ]
  },
  {
   "cell_type": "markdown",
   "id": "031c7ca7",
   "metadata": {},
   "source": [
    "### 3.1.3 Confusion Matrix"
   ]
  },
  {
   "cell_type": "code",
   "execution_count": 25,
   "id": "ccfcf405",
   "metadata": {},
   "outputs": [
    {
     "data": {
      "text/html": [
       "<div>\n",
       "<style scoped>\n",
       "    .dataframe tbody tr th:only-of-type {\n",
       "        vertical-align: middle;\n",
       "    }\n",
       "\n",
       "    .dataframe tbody tr th {\n",
       "        vertical-align: top;\n",
       "    }\n",
       "\n",
       "    .dataframe thead th {\n",
       "        text-align: right;\n",
       "    }\n",
       "</style>\n",
       "<table border=\"1\" class=\"dataframe\">\n",
       "  <thead>\n",
       "    <tr style=\"text-align: right;\">\n",
       "      <th></th>\n",
       "      <th>Predicted Healthy</th>\n",
       "      <th>Predicted Parkinsons</th>\n",
       "    </tr>\n",
       "  </thead>\n",
       "  <tbody>\n",
       "    <tr>\n",
       "      <th>True Healthy</th>\n",
       "      <td>8</td>\n",
       "      <td>1</td>\n",
       "    </tr>\n",
       "    <tr>\n",
       "      <th>True Parkinsons</th>\n",
       "      <td>0</td>\n",
       "      <td>21</td>\n",
       "    </tr>\n",
       "  </tbody>\n",
       "</table>\n",
       "</div>"
      ],
      "text/plain": [
       "                 Predicted Healthy  Predicted Parkinsons\n",
       "True Healthy                     8                     1\n",
       "True Parkinsons                  0                    21"
      ]
     },
     "execution_count": 25,
     "metadata": {},
     "output_type": "execute_result"
    }
   ],
   "source": [
    "from sklearn.metrics import confusion_matrix\n",
    "\n",
    "pd.DataFrame(\n",
    "\n",
    "    confusion_matrix(y_test, y_prediction_xgboost),\n",
    "\n",
    "    columns=['Predicted Healthy', 'Predicted Parkinsons'],\n",
    "\n",
    "    index=['True Healthy', 'True Parkinsons']\n",
    "\n",
    ")"
   ]
  },
  {
   "cell_type": "markdown",
   "id": "40970605",
   "metadata": {},
   "source": [
    "### 3.2 SVM classifier"
   ]
  },
  {
   "cell_type": "markdown",
   "id": "5bbc8950",
   "metadata": {},
   "source": [
    "### 3.2.1 Train the model"
   ]
  },
  {
   "cell_type": "code",
   "execution_count": 33,
   "id": "3e8015ad",
   "metadata": {},
   "outputs": [
    {
     "data": {
      "text/plain": [
       "SVC()"
      ]
     },
     "execution_count": 33,
     "metadata": {},
     "output_type": "execute_result"
    }
   ],
   "source": [
    "from sklearn.svm import SVC\n",
    "model_SVM = SVC()\n",
    "model_SVM.fit(x_train,y_train)"
   ]
  },
  {
   "cell_type": "markdown",
   "id": "3fb77314",
   "metadata": {},
   "source": [
    "### 3.2.2 Model prediction"
   ]
  },
  {
   "cell_type": "code",
   "execution_count": 34,
   "id": "cf39f2dd",
   "metadata": {},
   "outputs": [
    {
     "name": "stdout",
     "output_type": "stream",
     "text": [
      "Accuracy Score is 86.66666666666667\n"
     ]
    }
   ],
   "source": [
    "y_prediction_SVM = model_SVM.predict(x_test)\n",
    "\n",
    "print(\"Accuracy Score is\", accuracy_score(y_test, y_prediction_SVM) * 100)"
   ]
  },
  {
   "cell_type": "markdown",
   "id": "f8c36344",
   "metadata": {},
   "source": [
    "### 3.2.3 Confusion Matrix"
   ]
  },
  {
   "cell_type": "code",
   "execution_count": 35,
   "id": "2a5e8ad3",
   "metadata": {},
   "outputs": [
    {
     "data": {
      "text/html": [
       "<div>\n",
       "<style scoped>\n",
       "    .dataframe tbody tr th:only-of-type {\n",
       "        vertical-align: middle;\n",
       "    }\n",
       "\n",
       "    .dataframe tbody tr th {\n",
       "        vertical-align: top;\n",
       "    }\n",
       "\n",
       "    .dataframe thead th {\n",
       "        text-align: right;\n",
       "    }\n",
       "</style>\n",
       "<table border=\"1\" class=\"dataframe\">\n",
       "  <thead>\n",
       "    <tr style=\"text-align: right;\">\n",
       "      <th></th>\n",
       "      <th>Predicted Healthy</th>\n",
       "      <th>Predicted Parkinsons</th>\n",
       "    </tr>\n",
       "  </thead>\n",
       "  <tbody>\n",
       "    <tr>\n",
       "      <th>True Healthy</th>\n",
       "      <td>7</td>\n",
       "      <td>4</td>\n",
       "    </tr>\n",
       "    <tr>\n",
       "      <th>True Parkinsons</th>\n",
       "      <td>0</td>\n",
       "      <td>19</td>\n",
       "    </tr>\n",
       "  </tbody>\n",
       "</table>\n",
       "</div>"
      ],
      "text/plain": [
       "                 Predicted Healthy  Predicted Parkinsons\n",
       "True Healthy                     7                     4\n",
       "True Parkinsons                  0                    19"
      ]
     },
     "execution_count": 35,
     "metadata": {},
     "output_type": "execute_result"
    }
   ],
   "source": [
    "pd.DataFrame(\n",
    "\n",
    "    confusion_matrix(y_test, y_prediction_SVM),\n",
    "\n",
    "    columns=['Predicted Healthy', 'Predicted Parkinsons'],\n",
    "\n",
    "    index=['True Healthy', 'True Parkinsons']\n",
    "\n",
    ")"
   ]
  },
  {
   "cell_type": "markdown",
   "id": "6248d98d",
   "metadata": {},
   "source": [
    "### 3.3 K-Nearest Neighbours classifier"
   ]
  },
  {
   "cell_type": "markdown",
   "id": "d41ed21b",
   "metadata": {},
   "source": [
    "### 3.3.1 Train the model"
   ]
  },
  {
   "cell_type": "code",
   "execution_count": 36,
   "id": "abd90aad",
   "metadata": {},
   "outputs": [
    {
     "data": {
      "text/plain": [
       "KNeighborsClassifier(n_neighbors=2)"
      ]
     },
     "execution_count": 36,
     "metadata": {},
     "output_type": "execute_result"
    }
   ],
   "source": [
    "from sklearn.neighbors import KNeighborsClassifier\n",
    "\n",
    "model_KNN = KNeighborsClassifier(n_neighbors=2)\n",
    "model_KNN.fit(x_train,y_train)\n",
    "\n",
    "\n",
    "#from sklearn.decomposition import PCA\n",
    "#pca = PCA(n_components = 2)\n",
    "#x_train = pca.fit_transform(x_train)\n",
    "#x_test = pca.transform(x_test)\n",
    "#variance = pca.explained_variance_ratio_\n",
    "#classifi = KNeighborsClassifier(n_neighbors = 8,p=2,metric ='minkowski')\n"
   ]
  },
  {
   "cell_type": "markdown",
   "id": "b80a7701",
   "metadata": {},
   "source": [
    "### 3.3.2 Model prediction"
   ]
  },
  {
   "cell_type": "code",
   "execution_count": 37,
   "id": "5a8e61a7",
   "metadata": {},
   "outputs": [
    {
     "name": "stdout",
     "output_type": "stream",
     "text": [
      "Accuracy Score is 96.66666666666667\n"
     ]
    }
   ],
   "source": [
    "y_prediction_KNN = model_KNN.predict(x_test)\n",
    "\n",
    "print(\"Accuracy Score is\", accuracy_score(y_test, y_prediction_KNN) * 100)"
   ]
  },
  {
   "cell_type": "code",
   "execution_count": null,
   "id": "7a1cbbd1",
   "metadata": {},
   "outputs": [],
   "source": []
  }
 ],
 "metadata": {
  "kernelspec": {
   "display_name": "Python 3 (ipykernel)",
   "language": "python",
   "name": "python3"
  },
  "language_info": {
   "codemirror_mode": {
    "name": "ipython",
    "version": 3
   },
   "file_extension": ".py",
   "mimetype": "text/x-python",
   "name": "python",
   "nbconvert_exporter": "python",
   "pygments_lexer": "ipython3",
   "version": "3.9.10"
  }
 },
 "nbformat": 4,
 "nbformat_minor": 5
}
